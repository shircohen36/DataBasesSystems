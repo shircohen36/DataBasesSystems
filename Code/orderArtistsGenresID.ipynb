{
 "cells": [
  {
   "cell_type": "code",
   "execution_count": 13,
   "metadata": {
    "collapsed": true
   },
   "outputs": [],
   "source": [
    "import csv"
   ]
  },
  {
   "cell_type": "code",
   "execution_count": 8,
   "metadata": {
    "collapsed": true
   },
   "outputs": [],
   "source": [
    "# add id to rows\n",
    "\n",
    "filepath =\"MusicGenre.csv\"\n",
    "with open(filepath) as f:\n",
    "    data = list(csv.reader(f))\n",
    "    f.close\n",
    "data.reverse\n",
    "newfile=\"MusicGenre_id.csv\"\n",
    "with open(newfile,'w') as f:\n",
    "    i=0\n",
    "    for row in data:\n",
    "        for item in row:\n",
    "            f.write('%s,' % item)\n",
    "        f.write('%d\\n' % i)\n",
    "        i+=1\n",
    "    f.close()"
   ]
  },
  {
   "cell_type": "code",
   "execution_count": 22,
   "metadata": {
    "collapsed": false
   },
   "outputs": [],
   "source": [
    "# load genre:id to dict\n",
    "\n",
    "filepath =\"MusicGenre_id.csv\"\n",
    "with open(filepath) as f:\n",
    "    data = list(csv.reader(f))\n",
    "    f.close\n",
    "data.reverse\n",
    "dict={}\n",
    "headline=data.pop(0)\n",
    "labelIndex=0\n",
    "idIndex=0\n",
    "for i in range (0,len(headline)):\n",
    "    if headline[i]==\"label\":\n",
    "        labelIndex=i\n",
    "    if headline[i]==\"ID\":\n",
    "        idIndex=i\n",
    "for row in data:\n",
    "    temp={row[labelIndex]:row[idIndex]}\n",
    "    dict.update(temp)"
   ]
  },
  {
   "cell_type": "code",
   "execution_count": 35,
   "metadata": {
    "collapsed": false
   },
   "outputs": [],
   "source": [
    "# write row to file 'f'\n",
    "def writeRow (f,row):\n",
    "    for i in range (0,len(row)):\n",
    "        if (i<len(row)-1):\n",
    "            f.write('%s,' % row[i])\n",
    "        else:\n",
    "            f.write('%s\\n' % row[i])    "
   ]
  },
  {
   "cell_type": "code",
   "execution_count": 36,
   "metadata": {
    "collapsed": false
   },
   "outputs": [],
   "source": [
    "# write artist's genres by 'id' in split rows\n",
    "filepath =\"MusicalArtist.csv\"\n",
    "with open(filepath) as f:\n",
    "    data = list(csv.reader(f))\n",
    "    f.close\n",
    "data.reverse\n",
    "headline=data.pop(0)\n",
    "for i in range (0,len(headline)):\n",
    "    if headline[i]==\"genre_label\":\n",
    "        gInx=i\n",
    "filepath =\"MusicalArtist_id.csv\"\n",
    "with open(filepath,'w') as f:\n",
    "    writeRow(f,headline)\n",
    "    for row in data:\n",
    "        if row[gInx]!=\"NULL\":\n",
    "            if \"{\" in row[gInx]:\n",
    "                genre=row[gInx].split(\"{\",1)[1]\n",
    "            if \"}\" in genre:\n",
    "                genre=genre.split(\"}\",1)[0]\n",
    "            if \"|\" in genre:\n",
    "                genre=genre.split(\"|\",1)\n",
    "                for item in genre:\n",
    "                    tempRow=row\n",
    "                    if item in dict:\n",
    "                        idg=int(dict[item])\n",
    "                    else:\n",
    "                        idg=0\n",
    "                    tempRow[gInx]=idg\n",
    "                    writeRow(f,tempRow)\n",
    "        else:\n",
    "            writeRow(f,row)\n",
    "    f.close"
   ]
  },
  {
   "cell_type": "code",
   "execution_count": null,
   "metadata": {
    "collapsed": true
   },
   "outputs": [],
   "source": []
  }
 ],
 "metadata": {
  "kernelspec": {
   "display_name": "Python 2",
   "language": "python",
   "name": "python2"
  },
  "language_info": {
   "codemirror_mode": {
    "name": "ipython",
    "version": 2
   },
   "file_extension": ".py",
   "mimetype": "text/x-python",
   "name": "python",
   "nbconvert_exporter": "python",
   "pygments_lexer": "ipython2",
   "version": "2.7.11"
  }
 },
 "nbformat": 4,
 "nbformat_minor": 0
}
