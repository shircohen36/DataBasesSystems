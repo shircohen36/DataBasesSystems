{
 "cells": [
  {
   "cell_type": "code",
   "execution_count": 36,
   "metadata": {
    "collapsed": true
   },
   "outputs": [],
   "source": [
    "import csv"
   ]
  },
  {
   "cell_type": "code",
   "execution_count": 37,
   "metadata": {
    "collapsed": false
   },
   "outputs": [],
   "source": [
    "# load genre:id to dict\n",
    "\n",
    "filepath =\"ExcelOntologyTablesForDB/MusicGenre_withID.csv\"\n",
    "with open(filepath) as f:\n",
    "    data = list(csv.reader(f))\n",
    "    f.close\n",
    "data.reverse\n",
    "dict={}\n",
    "headline=data.pop(0)\n",
    "labelIndex=0\n",
    "idIndex=0\n",
    "for i in range (0,len(headline)):\n",
    "    if headline[i]==\"label\":\n",
    "        labelIndex=i\n",
    "    if headline[i]==\"ID\":\n",
    "        idIndex=i\n",
    "for row in data:\n",
    "    temp={row[labelIndex]:row[idIndex]}\n",
    "    dict.update(temp)"
   ]
  },
  {
   "cell_type": "code",
   "execution_count": 38,
   "metadata": {
    "collapsed": false
   },
   "outputs": [],
   "source": [
    "# write row to file 'f'\n",
    "def writeRow (f,row,insertname,index):\n",
    "    for i in range (0,len(row)):\n",
    "        if (i<len(row)-1):\n",
    "            f.write('%s,' % row[i])\n",
    "        else:\n",
    "            f.write('%s\\n' % row[i]) \n",
    "        if i==index: #write the genre name that fits this ID\n",
    "            f.write('%s,' % insertname)"
   ]
  },
  {
   "cell_type": "code",
   "execution_count": 39,
   "metadata": {
    "collapsed": false
   },
   "outputs": [],
   "source": [
    "# write artist's genres by 'id' in split rows\n",
    "filepath =\"ExcelOntologyTablesClean/MusicalArtist.csv\"\n",
    "with open(filepath) as f:\n",
    "    data = list(csv.reader(f))\n",
    "    f.close\n",
    "data.reverse\n",
    "headline=data.pop(0)\n",
    "for i in range (0,len(headline)):\n",
    "    if headline[i]==\"genre_label\":\n",
    "        gInx=i\n",
    "        headline[i]=\"genre_ID\"\n",
    "filepath =\"ExcelOntologyTablesForDB/MusicalArtist_genreByID.csv\"\n",
    "with open(filepath,'w') as f:\n",
    "    writeRow(f,headline,\"genre_name\",gInx)\n",
    "    for row in data:\n",
    "        if row[gInx]!=\"NULL\":\n",
    "            genre=row[gInx]\n",
    "            if \"{\" in genre:\n",
    "                genre=genre.split(\"{\")[1]\n",
    "            if \"}\" in genre:\n",
    "                genre=genre.split(\"}\")[0]\n",
    "            if \"|\" in genre:\n",
    "                genre=genre.split(\"|\")\n",
    "                for item in genre:\n",
    "                    tempRow=row\n",
    "                    if item in dict:\n",
    "                        idg=int(dict[item])\n",
    "                    else:\n",
    "                        idg=0\n",
    "                    tempRow[gInx]=idg\n",
    "                    writeRow(f,tempRow,item,gInx)\n",
    "            else:\n",
    "                tempRow=row\n",
    "                if genre in dict:\n",
    "                    idg=int(dict[genre])\n",
    "                else:\n",
    "                    idg=0\n",
    "                tempRow[gInx]=idg\n",
    "                writeRow(f,tempRow,genre,gInx)\n",
    "        else:\n",
    "            writeRow(f,row,\"NULL\",gInx)\n",
    "    f.close"
   ]
  },
  {
   "cell_type": "code",
   "execution_count": null,
   "metadata": {
    "collapsed": true
   },
   "outputs": [],
   "source": []
  }
 ],
 "metadata": {
  "kernelspec": {
   "display_name": "Python 2",
   "language": "python",
   "name": "python2"
  },
  "language_info": {
   "codemirror_mode": {
    "name": "ipython",
    "version": 2
   },
   "file_extension": ".py",
   "mimetype": "text/x-python",
   "name": "python",
   "nbconvert_exporter": "python",
   "pygments_lexer": "ipython2",
   "version": "2.7.11"
  }
 },
 "nbformat": 4,
 "nbformat_minor": 0
}
