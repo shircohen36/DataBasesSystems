{
 "cells": [
  {
   "cell_type": "code",
   "execution_count": 68,
   "metadata": {
    "collapsed": true
   },
   "outputs": [],
   "source": [
    "import csv\n",
    "import os"
   ]
  },
  {
   "cell_type": "code",
   "execution_count": 69,
   "metadata": {
    "collapsed": true
   },
   "outputs": [],
   "source": [
    "# check type of values in each coulumn\n",
    "def checkType(data):\n",
    "    newData=list(data)\n",
    "    valueTypeArray=newData.pop(0)\n",
    "    valueTypeArray=[0 for i in range (0,len(valueTypeArray))]\n",
    "    for row in newData:\n",
    "        for i in range (0,len(row)):\n",
    "            item=row[i]\n",
    "            try: \n",
    "                int(item)\n",
    "            except ValueError:\n",
    "                if valueTypeArray[i]==0:\n",
    "                    valueTypeArray[i]=1\n",
    "                valueTypeArray[i]=max(valueTypeArray[i],len(item)) \n",
    "    return valueTypeArray"
   ]
  },
  {
   "cell_type": "code",
   "execution_count": 70,
   "metadata": {
    "collapsed": false
   },
   "outputs": [],
   "source": [
    "# write the sql file from data file\n",
    "def writeDataSqlFile(fscheme,data,tableName,valueTypeArray):\n",
    "    \n",
    "    fscheme.write(\"CREATE TABLE %s (\\n\" % tableName)\n",
    "    headline=data.pop(0)\n",
    "        \n",
    "    # create table\n",
    "    fscheme.write(\"\\tID INT NOT NULL AUTO_INCREMENT,\\n\")\n",
    "    for i in range (0,len(headline)-1):\n",
    "        item=headline[i]\n",
    "        if valueTypeArray[i]==0:\n",
    "            fscheme.write(\"\\t%s INT,\\n\" % item)\n",
    "        else:\n",
    "            if \"comment\" in item or \"discription\" in item or valueTypeArray[i]>1500:\n",
    "                fscheme.write(\"\\t%s TEXT,\\n\" % item)\n",
    "            elif item==\"name\":\n",
    "                valueTypeArray[i]+=16\n",
    "                fscheme.write(\"\\t{0} VARCHAR({1}) NOT NULL,\\n\".format(item,valueTypeArray[i]))\n",
    "            else:\n",
    "                valueTypeArray[i]+=16\n",
    "                fscheme.write(\"\\t{0} VARCHAR({1}),\\n\".format(item, valueTypeArray[i]))\n",
    "    fscheme.write(\"\\tPRIMARY KEY (ID)\\n\")\n",
    "    fscheme.write(\");\\n\\n\")\n",
    "        \n",
    "    # insert values to table\n",
    "    filepath=\"SQL_DB/\"+tableName+\"_data.sql\"\n",
    "    with open(filepath,'w') as fdata:     \n",
    "        for row in data:\n",
    "            fdata.write(\"INSERT INTO %s VALUES (NULL,\" % tableName)\n",
    "            for i in range (0,len(row)-1):\n",
    "                item=row[i]\n",
    "                item=item.replace(\"\\'\",\"\\''\")\n",
    "                if valueTypeArray[i]==0:\n",
    "                    item=int(item)\n",
    "                    fdata.write(\"%d\" % item)\n",
    "                else:\n",
    "                    fdata.write('\\'')\n",
    "                    fdata.write(\"%s\" % item)\n",
    "                    fdata.write('\\'')\n",
    "                if i<len(headline)-2:\n",
    "                    fdata.write(\",\")\n",
    "            fdata.write(\");\\n\")\n",
    "    fdata.close"
   ]
  },
  {
   "cell_type": "code",
   "execution_count": null,
   "metadata": {
    "collapsed": true
   },
   "outputs": [],
   "source": [
    "# write the sql file from match file\n",
    "def writeMatchSqlFile(fscheme,data,tableName,valueTypeArray):\n",
    "   \n",
    "    fscheme.write(\"CREATE TABLE %s (\\n\" % tableName)\n",
    "    headline=data.pop(0)\n",
    "        \n",
    "    # create table\n",
    "    for i in range (0,len(headline)):\n",
    "        item=headline[i]\n",
    "        fscheme.write(\"\\t%s INT\\n\" % item)\n",
    "        refTable=item.split(\"_ID\")[0]\n",
    "        fscheme.write(\"\\t\\tREFERENCES %s(ID)\" % refTable)\n",
    "        if i<len(headline)-1:\n",
    "            fscheme.write (',\\n')\n",
    "        else:\n",
    "            fscheme.write ('\\n')\n",
    "    fscheme.write(\");\\n\\n\")\n",
    "        \n",
    "    # insert values to table\n",
    "    filepath=\"SQL_DB/\"+tableName+\"_data.sql\"\n",
    "    with open(filepath,'w') as fdata:\n",
    "        for row in data:\n",
    "            fdata.write(\"INSERT INTO %s VALUES (\" % tableName)\n",
    "            for i in range (0,len(row)):\n",
    "                item=row[i]\n",
    "                item=int(item)\n",
    "                fdata.write(\"%d\" % item)\n",
    "                if i<len(headline)-1:\n",
    "                    fdata.write(\",\")\n",
    "            fdata.write(\");\\n\")\n",
    "    fdata.close"
   ]
  },
  {
   "cell_type": "code",
   "execution_count": 71,
   "metadata": {
    "collapsed": false
   },
   "outputs": [],
   "source": [
    "# create tables from dir\n",
    "def createDataTable(fscheme,dirpath):\n",
    "    for filename in os.listdir(dirpath):\n",
    "        filepath=dirpath+'/'+filename\n",
    "        tableName=filename.split('.csv')[0]\n",
    "        with open(filepath) as f2:\n",
    "            data = list(csv.reader(f2))\n",
    "            data.reverse\n",
    "            f2.close\n",
    "        valueTypeArray=checkType(data)\n",
    "        writeDataSqlFile(fscheme,data,tableName,valueTypeArray)                  "
   ]
  },
  {
   "cell_type": "code",
   "execution_count": null,
   "metadata": {
    "collapsed": true
   },
   "outputs": [],
   "source": [
    "# create tables from dir\n",
    "def createMatchTable(fscheme,dirpath):\n",
    "    for filename in os.listdir(dirpath):\n",
    "        filepath=dirpath+'/'+filename\n",
    "        tableName=filename.split('.csv')[0]\n",
    "        with open(filepath) as f2:\n",
    "            data = list(csv.reader(f2))\n",
    "            data.reverse\n",
    "            f2.close\n",
    "        valueTypeArray=checkType(data)\n",
    "        writeMatchSqlFile(fscheme,data,tableName,valueTypeArray) "
   ]
  },
  {
   "cell_type": "code",
   "execution_count": null,
   "metadata": {
    "collapsed": true
   },
   "outputs": [],
   "source": [
    "# write index file\n",
    "def createIndex(f,dirpath):\n",
    "        for filename in os.listdir(dirpath):\n",
    "            tableName=filename.split('.csv')[0]\n",
    "            f.write(\"CREATE INDEX nameIndex ON %s(name);\\n\" % tableName)       "
   ]
  },
  {
   "cell_type": "code",
   "execution_count": null,
   "metadata": {
    "collapsed": true
   },
   "outputs": [],
   "source": [
    "# write all DB building queries into one SQL_DB file\n",
    "def createSQLTables(dir1, dir2,dir3):\n",
    "    outputSchemePath=\"SQL_DB/musicDB_scheme.sql\"\n",
    "    with open(outputSchemePath,'w') as fscheme:\n",
    "        createDataTable(fscheme,dir1)\n",
    "        createMatchTable(fscheme,dir2)\n",
    "        createIndex(fscheme,dir3)\n",
    "        fscheme.close"
   ]
  }
 ],
 "metadata": {
  "kernelspec": {
   "display_name": "Python 2",
   "language": "python",
   "name": "python2"
  },
  "language_info": {
   "codemirror_mode": {
    "name": "ipython",
    "version": 2
   },
   "file_extension": ".py",
   "mimetype": "text/x-python",
   "name": "python",
   "nbconvert_exporter": "python",
   "pygments_lexer": "ipython2",
   "version": "2.7.11"
  }
 },
 "nbformat": 4,
 "nbformat_minor": 0
}
