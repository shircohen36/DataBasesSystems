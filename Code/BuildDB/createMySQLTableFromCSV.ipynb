{
 "cells": [
  {
   "cell_type": "code",
   "execution_count": 68,
   "metadata": {
    "collapsed": true
   },
   "outputs": [],
   "source": [
    "import csv\n",
    "import os"
   ]
  },
  {
   "cell_type": "code",
   "execution_count": 69,
   "metadata": {
    "collapsed": true
   },
   "outputs": [],
   "source": [
    "# check type of values in each coulumn\n",
    "def checkType(data):\n",
    "    newData=list(data)\n",
    "    valueTypeArray=newData.pop(0)\n",
    "    valueTypeArray=[\"int\" for i in range (0,len(valueTypeArray))]\n",
    "    for row in newData:\n",
    "        for i in range (0,len(row)):\n",
    "            item=row[i]\n",
    "            try: \n",
    "                int(item)\n",
    "            except ValueError:\n",
    "                valueTypeArray[i]=\"string\" \n",
    "    return valueTypeArray"
   ]
  },
  {
   "cell_type": "code",
   "execution_count": 70,
   "metadata": {
    "collapsed": false
   },
   "outputs": [],
   "source": [
    "# write the sql file\n",
    "def writeSqlFile(data,tableName,valueTypeArray):\n",
    "    dirpath=\"SQL_DB\"\n",
    "    filepath=dirpath+'/'+tableName+\".sql\"\n",
    "    with open(filepath,'w') as f:\n",
    "        f.write(\"CREATE TABLE %s (\\n\" % tableName)\n",
    "        headline=data.pop(0)\n",
    "        \n",
    "        # create table\n",
    "        for i in range (0,len(headline)):\n",
    "            item=headline[i]\n",
    "            item=item.replace(\" \",\"_\")\n",
    "            if \"int\" in valueTypeArray[i]:\n",
    "                f.write(\"\\t%s INT\" % item)\n",
    "            else:\n",
    "                f.write(\"\\t%s VARCHAR(2000) CHARACTER SET utf8\" % item)\n",
    "            if i<len(headline)-1:\n",
    "                f.write(\",\\n\")\n",
    "            else:\n",
    "                f.write(\"\\n\")\n",
    "        f.write(\");\\n\")\n",
    "        \n",
    "        # insert values to table\n",
    "        for row in data:\n",
    "            f.write(\"INSERT INTO %s VALUES (\" % tableName)\n",
    "            for i in range (0,len(row)):\n",
    "                item=row[i]\n",
    "                item=item.replace(\"\\'\",\"\\''\")\n",
    "                if \"int\" in valueTypeArray[i]:\n",
    "                    item=int(item)\n",
    "                    f.write(\"%d\" % item)\n",
    "                else:\n",
    "                    f.write('\\'')\n",
    "                    f.write(\"%s\" % item)\n",
    "                    f.write('\\'')\n",
    "                if i<len(headline)-1:\n",
    "                    f.write(\",\")\n",
    "            f.write(\");\\n\")\n",
    "        f.close"
   ]
  },
  {
   "cell_type": "code",
   "execution_count": 71,
   "metadata": {
    "collapsed": false
   },
   "outputs": [],
   "source": [
    "# create tables from dir\n",
    "def createTable(dirpath):\n",
    "    for filename in os.listdir(dirpath):\n",
    "        filepath=dirpath+'/'+filename\n",
    "        tableName=filename.split('.csv')[0]\n",
    "        with open(filepath) as f:\n",
    "            data = list(csv.reader(f))\n",
    "            data.reverse\n",
    "            f.close\n",
    "        valueTypeArray=checkType(data)\n",
    "        writeSqlFile(data,tableName,valueTypeArray)                  "
   ]
  },
  {
   "cell_type": "code",
   "execution_count": null,
   "metadata": {
    "collapsed": true
   },
   "outputs": [],
   "source": []
  }
 ],
 "metadata": {
  "kernelspec": {
   "display_name": "Python 2",
   "language": "python",
   "name": "python2"
  },
  "language_info": {
   "codemirror_mode": {
    "name": "ipython",
    "version": 2
   },
   "file_extension": ".py",
   "mimetype": "text/x-python",
   "name": "python",
   "nbconvert_exporter": "python",
   "pygments_lexer": "ipython2",
   "version": "2.7.11"
  }
 },
 "nbformat": 4,
 "nbformat_minor": 0
}
