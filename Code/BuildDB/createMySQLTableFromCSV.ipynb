{
 "cells": [
  {
   "cell_type": "code",
   "execution_count": 68,
   "metadata": {
    "collapsed": true
   },
   "outputs": [],
   "source": [
    "import csv\n",
    "import os"
   ]
  },
  {
   "cell_type": "code",
   "execution_count": 69,
   "metadata": {
    "collapsed": true
   },
   "outputs": [],
   "source": [
    "# check type of values in each coulumn\n",
    "def checkType(data):\n",
    "    newData=list(data)\n",
    "    valueTypeArray=newData.pop(0)\n",
    "    valueTypeArray=[0 for i in range (0,len(valueTypeArray))]\n",
    "    for row in newData:\n",
    "        for i in range (0,len(row)):\n",
    "            item=row[i]\n",
    "            try: \n",
    "                int(item)\n",
    "            except ValueError:\n",
    "                if valueTypeArray[i]==0:\n",
    "                    valueTypeArray[i]=1\n",
    "                valueTypeArray[i]=max(valueTypeArray[i],len(item)) \n",
    "    return valueTypeArray"
   ]
  },
  {
   "cell_type": "code",
   "execution_count": 70,
   "metadata": {
    "collapsed": false
   },
   "outputs": [],
   "source": [
    "# write the sql file from data file\n",
    "def writeDataSqlFile(f,data,tableName,valueTypeArray):\n",
    "    \n",
    "    f.write(\"CREATE TABLE %s (\\n\" % tableName)\n",
    "    headline=data.pop(0)\n",
    "        \n",
    "    # create table\n",
    "    for i in range (0,len(headline)):\n",
    "        item=headline[i]\n",
    "        item=item.replace(\" \",\"_\")\n",
    "        if valueTypeArray[i]==0:\n",
    "            f.write(\"\\t%s INT,\\n\" % item)\n",
    "        else:\n",
    "            if \"comment\" in item or \"discription\" in item or valueTypeArray[i]>1500:\n",
    "                f.write(\"\\t%s TEXT,\\n\" % item)\n",
    "            elif item==\"name\":\n",
    "                valueTypeArray[i]+=16\n",
    "                f.write(\"\\t{0} VARCHAR({1}) NOT NULL,\\n\".format(item,valueTypeArray[i]))\n",
    "            else:\n",
    "                valueTypeArray[i]+=16\n",
    "                f.write(\"\\t{0} VARCHAR({1}),\\n\".format(item, valueTypeArray[i]))\n",
    "    f.write(\"\\tPRIMARY KEY (ID)\\n\")\n",
    "    f.write(\");\\n\")\n",
    "        \n",
    "    # insert values to table\n",
    "    for row in data:\n",
    "        f.write(\"INSERT INTO %s VALUES (\" % tableName)\n",
    "        for i in range (0,len(row)):\n",
    "            item=row[i]\n",
    "            item=item.replace(\"\\'\",\"\\''\")\n",
    "            if valueTypeArray[i]==0:\n",
    "                item=int(item)\n",
    "                f.write(\"%d\" % item)\n",
    "            else:\n",
    "                f.write('\\'')\n",
    "                f.write(\"%s\" % item)\n",
    "                f.write('\\'')\n",
    "            if i<len(headline)-1:\n",
    "                f.write(\",\")\n",
    "        f.write(\");\\n\")"
   ]
  },
  {
   "cell_type": "code",
   "execution_count": null,
   "metadata": {
    "collapsed": true
   },
   "outputs": [],
   "source": [
    "# write the sql file from match file\n",
    "def writeMatchSqlFile(f,data,tableName,valueTypeArray):\n",
    "   \n",
    "    f.write(\"CREATE TABLE %s (\\n\" % tableName)\n",
    "    headline=data.pop(0)\n",
    "        \n",
    "    # create table\n",
    "    for i in range (0,len(headline)):\n",
    "        item=headline[i]\n",
    "        item=item.replace(\" \",\"_\")\n",
    "        f.write(\"\\t%s INT\\n\" % item)\n",
    "        refTable=item.split(\"_ID\")[0]\n",
    "        f.write(\"\\t\\tREFERENCES %s(ID)\" % refTable)\n",
    "        if i<len(headline)-1:\n",
    "            f.write (',\\n')\n",
    "        else:\n",
    "            f.write ('\\n')\n",
    "    f.write(\");\\n\")\n",
    "        \n",
    "    # insert values to table\n",
    "    for row in data:\n",
    "        f.write(\"INSERT INTO %s VALUES (\" % tableName)\n",
    "        for i in range (0,len(row)):\n",
    "            item=row[i]\n",
    "            item=int(item)\n",
    "            f.write(\"%d\" % item)\n",
    "            if i<len(headline)-1:\n",
    "                f.write(\",\")\n",
    "        f.write(\");\\n\")"
   ]
  },
  {
   "cell_type": "code",
   "execution_count": 71,
   "metadata": {
    "collapsed": false
   },
   "outputs": [],
   "source": [
    "# create tables from dir\n",
    "def createDataTable(f,dirpath):\n",
    "    for filename in os.listdir(dirpath):\n",
    "        filepath=dirpath+'/'+filename\n",
    "        tableName=filename.split('.csv')[0]\n",
    "        with open(filepath) as f2:\n",
    "            data = list(csv.reader(f2))\n",
    "            data.reverse\n",
    "            f2.close\n",
    "        valueTypeArray=checkType(data)\n",
    "        writeDataSqlFile(f,data,tableName,valueTypeArray)                  "
   ]
  },
  {
   "cell_type": "code",
   "execution_count": null,
   "metadata": {
    "collapsed": true
   },
   "outputs": [],
   "source": [
    "# create tables from dir\n",
    "def createMatchTable(f,dirpath):\n",
    "    for filename in os.listdir(dirpath):\n",
    "        filepath=dirpath+'/'+filename\n",
    "        tableName=filename.split('.csv')[0]\n",
    "        with open(filepath) as f2:\n",
    "            data = list(csv.reader(f2))\n",
    "            data.reverse\n",
    "            f2.close\n",
    "        valueTypeArray=checkType(data)\n",
    "        writeMatchSqlFile(f,data,tableName,valueTypeArray)    "
   ]
  },
  {
   "cell_type": "code",
   "execution_count": null,
   "metadata": {
    "collapsed": true
   },
   "outputs": [],
   "source": [
    "# write index file\n",
    "def createIndex(f,dirpath):\n",
    "        for filename in os.listdir(dirpath):\n",
    "            tableName=filename.split('.csv')[0]\n",
    "            f.write(\"CREATE INDEX nameIndex ON %s(name);\\n\" % tableName)       "
   ]
  },
  {
   "cell_type": "code",
   "execution_count": null,
   "metadata": {
    "collapsed": true
   },
   "outputs": [],
   "source": [
    "# write all DB building queries into one SQL_DB file\n",
    "def createSQLTables(dir1, dir2,dir3):\n",
    "    outputPath=\"SQL_DB/AllTablesDB.sql\"\n",
    "    with open(outputPath,'w') as f:\n",
    "    #    f.write(\"DROP SCHEMA IF EXISTS music\\n\");\n",
    "    #    f.write(\"CREATE SCHEMA music\\n\");\n",
    "    #    f.write(\"USE music\\n\");\n",
    "    #   f.write(\"\\n\")\n",
    "    #    f.write(\"set global innodb_file_format = Barracuda;\\n\")\n",
    "    #    f.write(\"set global innodb_file_per_table = 1;\\n\")\n",
    "    #    f.write(\"\\n\")\n",
    "        createDataTable(f,dir1)\n",
    "        f.write(\"\\n\")\n",
    "        createMatchTable(f,dir2)\n",
    "        f.write(\"\\n\")\n",
    "        createIndex(f,dir3)\n",
    "        f.close"
   ]
  }
 ],
 "metadata": {
  "kernelspec": {
   "display_name": "Python 2",
   "language": "python",
   "name": "python2"
  },
  "language_info": {
   "codemirror_mode": {
    "name": "ipython",
    "version": 2
   },
   "file_extension": ".py",
   "mimetype": "text/x-python",
   "name": "python",
   "nbconvert_exporter": "python",
   "pygments_lexer": "ipython2",
   "version": "2.7.11"
  }
 },
 "nbformat": 4,
 "nbformat_minor": 0
}
