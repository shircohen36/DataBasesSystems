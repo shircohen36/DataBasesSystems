{
 "cells": [
  {
   "cell_type": "code",
   "execution_count": 4,
   "metadata": {
    "collapsed": true
   },
   "outputs": [],
   "source": [
    "import csv\n",
    "import os"
   ]
  },
  {
   "cell_type": "code",
   "execution_count": 5,
   "metadata": {
    "collapsed": true
   },
   "outputs": [],
   "source": [
    "# remove comma from the tables\n",
    "def cleanData(data):\n",
    "    for row in data:\n",
    "        for i in range (0,len(row)): #clean the data\n",
    "            row[i]=row[i].replace(',', '-')\n",
    "            row[i]=row[i].replace('_', ' ')\n",
    "    return data"
   ]
  },
  {
   "cell_type": "code",
   "execution_count": 6,
   "metadata": {
    "collapsed": false
   },
   "outputs": [],
   "source": [
    "# clean file in the dir\n",
    "def cleanFile (filename):\n",
    "    dirpath=\"ExcelOntologyTables\"\n",
    "    filepath=dirpath+\"/\"+filename\n",
    "    with open(filepath) as f:\n",
    "        data = list(csv.reader(f))\n",
    "        f.close\n",
    "    data=cleanData(data)\n",
    "    data.reverse\n",
    "    newdirpath=\"ExcelOntologyTablesClean\"\n",
    "    filepath=newdirpath+\"/\"+filename\n",
    "    with open(filepath,'w') as f:\n",
    "        j=0\n",
    "        for row in data:\n",
    "            for item in row:\n",
    "                f.write('%s,' % item)\n",
    "            if j==0:\n",
    "                f.write('ID\\n')\n",
    "            else:\n",
    "                f.write('%d\\n' % j)\n",
    "            j+=1\n",
    "        f.close()"
   ]
  },
  {
   "cell_type": "code",
   "execution_count": null,
   "metadata": {
    "collapsed": true
   },
   "outputs": [],
   "source": []
  }
 ],
 "metadata": {
  "kernelspec": {
   "display_name": "Python 2",
   "language": "python",
   "name": "python2"
  },
  "language_info": {
   "codemirror_mode": {
    "name": "ipython",
    "version": 2
   },
   "file_extension": ".py",
   "mimetype": "text/x-python",
   "name": "python",
   "nbconvert_exporter": "python",
   "pygments_lexer": "ipython2",
   "version": "2.7.11"
  }
 },
 "nbformat": 4,
 "nbformat_minor": 0
}
