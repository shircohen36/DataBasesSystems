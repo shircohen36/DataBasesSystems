{
 "cells": [
  {
   "cell_type": "code",
   "execution_count": 48,
   "metadata": {
    "collapsed": true
   },
   "outputs": [],
   "source": [
    "import csv\n",
    "dict={}"
   ]
  },
  {
   "cell_type": "code",
   "execution_count": 49,
   "metadata": {
    "collapsed": false
   },
   "outputs": [],
   "source": [
    "# load genre:id to dict\n",
    "\n",
    "#filepath =\"ExcelOntologyTablesForDB/MusicGenre_withID.csv\"\n",
    "\n",
    "def createDictFromFirst (filepath):\n",
    "    with open(filepath) as f:\n",
    "        data = list(csv.reader(f))\n",
    "        f.close\n",
    "    data.reverse\n",
    "    headline=data.pop(0)\n",
    "    labelIndex=0\n",
    "    idIndex=0\n",
    "    for i in range (0,len(headline)):\n",
    "        if headline[i]==\"label\":\n",
    "            labelIndex=i\n",
    "        if headline[i]==\"ID\":\n",
    "            idIndex=i\n",
    "    for row in data:\n",
    "        temp={row[labelIndex]:row[idIndex]}\n",
    "        dict.update(temp)"
   ]
  },
  {
   "cell_type": "code",
   "execution_count": 50,
   "metadata": {
    "collapsed": false
   },
   "outputs": [],
   "source": [
    "# write row to new file 'f'\n",
    "def writeRow (f,dictItem,matchedItem):\n",
    "    f.write('%s,' % dictItem)\n",
    "    f.write('%s\\n' % matchedItem)"
   ]
  },
  {
   "cell_type": "code",
   "execution_count": 51,
   "metadata": {
    "collapsed": false
   },
   "outputs": [],
   "source": [
    "# write artist's genres by 'id' in split rows\n",
    "\n",
    "#filepath =\"ExcelOntologyTablesClean/MusicalArtist.csv\"\n",
    "\n",
    "def writeMatchFromFileTwo(fileOne,fileTwo,DirOutput,labelToMatch):\n",
    "    with open(fileTwo) as f:\n",
    "        data = list(csv.reader(f))\n",
    "        f.close\n",
    "    data.reverse\n",
    "    headline=data.pop(0)\n",
    "    for i in range (0,len(headline)):\n",
    "        if headline[i]==labelToMatch: #item to match to in first file\n",
    "            genreInx=i\n",
    "        if headline[i]==\"ID\": #id of row in second file\n",
    "            idIndex=i\n",
    "            \n",
    "    firstname=fileOne.split(\"/\")\n",
    "    firstname=firstname[len(firstname)-1].split(\".csv\")[0]\n",
    "\n",
    "    secondname=fileTwo.split(\"/\")\n",
    "    secondname=secondname[len(secondname)-1].split(\".csv\")[0]\n",
    "    \n",
    "    fileOutput=DirOutput+\"/\"+firstname+\"_\"+secondname+\".csv\" #output file\n",
    "    \n",
    "    firstname=firstname+\"_ID\"\n",
    "    secondname=secondname+\"_ID\"\n",
    "\n",
    "    with open(fileOutput,'w') as f:\n",
    "        writeRow(f,firstname,secondname)\n",
    "        for row in data:\n",
    "            if row[genreInx]!=\"NULL\":\n",
    "                genre=row[genreInx]\n",
    "                if \"{\" in genre:\n",
    "                    genre=genre.split(\"{\")[1]\n",
    "                if \"}\" in genre:\n",
    "                    genre=genre.split(\"}\")[0]\n",
    "                if \"|\" in genre:\n",
    "                    genre=genre.split(\"|\")\n",
    "                    for item in genre:\n",
    "                        if item in dict:\n",
    "                            idgenre=int(dict[item]) #found item in second file take its ID\n",
    "                        else:\n",
    "                            idgenre=0 #no match found\n",
    "                        writeRow(f,idgenre,row[idIndex])\n",
    "                else:\n",
    "                    if genre in dict:\n",
    "                        idgenre=int(dict[genre])\n",
    "                    else:\n",
    "                        idgenre=0\n",
    "                    writeRow(f,idgenre,row[idIndex])\n",
    "            else:\n",
    "                writeRow(f,\"NULL\",row[idIndex]) #NULL in the place to match\n",
    "        f.close"
   ]
  },
  {
   "cell_type": "code",
   "execution_count": 52,
   "metadata": {
    "collapsed": false
   },
   "outputs": [],
   "source": [
    "fileOne=\"ExcelOntologyTablesClean/MusicGenre.csv\"\n",
    "fileTwo=\"ExcelOntologyTablesClean/Song.csv\"\n",
    "DirOutput=\"ExcelOntologyTablesForDB\"\n",
    "labelToMatch=\"genre_label\"\n",
    "\n",
    "#def createJoinTableByID(fileOne, fileTwo, fileOutput,labelToMatch):\n",
    "    \n",
    "createDictFromFirst(fileOne)\n",
    "writeMatchFromFileTwo(fileOne,fileTwo,DirOutput,labelToMatch)\n",
    "    "
   ]
  },
  {
   "cell_type": "code",
   "execution_count": null,
   "metadata": {
    "collapsed": true
   },
   "outputs": [],
   "source": []
  }
 ],
 "metadata": {
  "kernelspec": {
   "display_name": "Python 2",
   "language": "python",
   "name": "python2"
  },
  "language_info": {
   "codemirror_mode": {
    "name": "ipython",
    "version": 2
   },
   "file_extension": ".py",
   "mimetype": "text/x-python",
   "name": "python",
   "nbconvert_exporter": "python",
   "pygments_lexer": "ipython2",
   "version": "2.7.11"
  }
 },
 "nbformat": 4,
 "nbformat_minor": 0
}
