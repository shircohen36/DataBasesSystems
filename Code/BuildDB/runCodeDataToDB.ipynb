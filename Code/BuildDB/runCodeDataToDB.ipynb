{
 "cells": [
  {
   "cell_type": "code",
   "execution_count": 2,
   "metadata": {
    "collapsed": false
   },
   "outputs": [],
   "source": [
    "import cleanDataAddID\n",
    "import createFileMatchByID"
   ]
  },
  {
   "cell_type": "code",
   "execution_count": 3,
   "metadata": {
    "collapsed": false
   },
   "outputs": [],
   "source": [
    "cleanDataAddID.cleanFile(\"MusicGenre.csv\")\n",
    "cleanDataAddID.cleanFile(\"MusicalWork.csv\")\n",
    "cleanDataAddID.cleanFile(\"MusicalArtist.csv\")\n",
    "cleanDataAddID.cleanFile(\"Band.csv\")\n",
    "#cleanDataAddID.cleanFile(\"Single.csv\")\n",
    "#cleanDataAddID.cleanFile(\"Song.csv\")"
   ]
  },
  {
   "cell_type": "code",
   "execution_count": null,
   "metadata": {
    "collapsed": true
   },
   "outputs": [],
   "source": [
    "createFileMatchByID\n",
    "\n",
    "fileOne=\"ExcelOntologyTablesClean/MusicGenre.csv\"\n",
    "#fileTwo=\"ExcelOntologyTablesClean/MusicalWork.csv\"\n",
    "#fileTwo=\"ExcelOntologyTablesClean/MusicalArtist.csv\"\n",
    "#fileTwo=\"ExcelOntologyTablesClean/Band.csv\"\n",
    "#fileTwo=\"ExcelOntologyTablesClean/Single.csv\"\n",
    "#fileTwo=\"ExcelOntologyTablesClean/Song.csv\"\n",
    "DirOutput=\"ExcelOntologyTablesForDB\"\n",
    "\n",
    "labelsToMatch=list()\n",
    "labelsToMatch.append(\"genre\")\n",
    "\n",
    "createFileMatchByID.createJoinTableByID(fileOne,fileTwo,DirOutput,labelsToMatch)"
   ]
  },
  {
   "cell_type": "code",
   "execution_count": 9,
   "metadata": {
    "collapsed": false
   },
   "outputs": [],
   "source": [
    "createFileMatchByID\n",
    "\n",
    "fileOne=\"ExcelOntologyTablesClean/MusicalArtist.csv\"\n",
    "fileTwo=\"ExcelOntologyTablesClean/MusicalWork.csv\"\n",
    "DirOutput=\"ExcelOntologyTablesForDB\"\n",
    "\n",
    "labelsToMatch=list()\n",
    "labelsToMatch.append(\"musicalArtist\")\n",
    "labelsToMatch.append(\"artist\")\n",
    "labelsToMatch.append(\"musicalBand\")\n",
    "labelsToMatch.append(\"bandMember\")\n",
    "labelsToMatch.append(\"associatedBand\")\n",
    "\n",
    "createFileMatchByID.createJoinTableByID(fileOne,fileTwo,DirOutput,labelsToMatch)"
   ]
  },
  {
   "cell_type": "code",
   "execution_count": 10,
   "metadata": {
    "collapsed": false
   },
   "outputs": [],
   "source": [
    "createFileMatchByID\n",
    "\n",
    "fileOne=\"ExcelOntologyTablesClean/Band.csv\"\n",
    "fileTwo=\"ExcelOntologyTablesClean/MusicalWork.csv\"\n",
    "DirOutput=\"ExcelOntologyTablesForDB\"\n",
    "\n",
    "labelsToMatch=list()\n",
    "labelsToMatch.append(\"musicalArtist\")\n",
    "labelsToMatch.append(\"artist\")\n",
    "labelsToMatch.append(\"musicalBand\")\n",
    "labelsToMatch.append(\"bandMember\")\n",
    "labelsToMatch.append(\"associatedBand\")\n",
    "\n",
    "\n",
    "createFileMatchByID.createJoinTableByID(fileOne,fileTwo,DirOutput,labelsToMatch)"
   ]
  },
  {
   "cell_type": "code",
   "execution_count": 11,
   "metadata": {
    "collapsed": true
   },
   "outputs": [],
   "source": [
    "createFileMatchByID\n",
    "\n",
    "fileOne=\"ExcelOntologyTablesClean/MusicalArtist.csv\"\n",
    "fileTwo=\"ExcelOntologyTablesClean/Band.csv\"\n",
    "DirOutput=\"ExcelOntologyTablesForDB\"\n",
    "\n",
    "labelsToMatch=list()\n",
    "labelsToMatch.append(\"bandMember\")\n",
    "labelsToMatch.append(\"currentMember\")\n",
    "labelsToMatch.append(\"formerBandMember\")\n",
    "labelsToMatch.append(\"pastMember\")\n",
    "labelsToMatch.append(\"associatedMusicalArtist\")\n",
    "labelsToMatch.append(\"associatedMusicalBand\")\n",
    "\n",
    "createFileMatchByID.createJoinTableByID(fileOne,fileTwo,DirOutput,labelsToMatch)"
   ]
  },
  {
   "cell_type": "code",
   "execution_count": 18,
   "metadata": {
    "collapsed": false
   },
   "outputs": [],
   "source": [
    "#createFileMatchByID\n",
    "\n",
    "#fileOne=\"ExcelOntologyTablesClean/MusicalWork.csv\"\n",
    "#fileTwo=\"ExcelOntologyTablesClean/Single.csv\"\n",
    "#DirOutput=\"ExcelOntologyTablesForDB\"\n",
    "\n",
    "#labelsToMatch=list()\n",
    "#labelsToMatch.append(\"name\")\n",
    "\n",
    "#createFileMatchByID.createJoinTableByID(fileOne,fileTwo,DirOutput,labelsToMatch)"
   ]
  },
  {
   "cell_type": "code",
   "execution_count": 19,
   "metadata": {
    "collapsed": true
   },
   "outputs": [],
   "source": [
    "#createFileMatchByID\n",
    "\n",
    "#fileOne=\"ExcelOntologyTablesClean/MusicalWork.csv\"\n",
    "#fileTwo=\"ExcelOntologyTablesClean/Song.csv\"\n",
    "#DirOutput=\"ExcelOntologyTablesForDB\"\n",
    "\n",
    "#labelsToMatch=list()\n",
    "#labelsToMatch.append(\"name\")\n",
    "\n",
    "#createFileMatchByID.createJoinTableByID(fileOne,fileTwo,DirOutput,labelsToMatch)"
   ]
  },
  {
   "cell_type": "code",
   "execution_count": null,
   "metadata": {
    "collapsed": true
   },
   "outputs": [],
   "source": []
  }
 ],
 "metadata": {
  "kernelspec": {
   "display_name": "Python 2",
   "language": "python",
   "name": "python2"
  },
  "language_info": {
   "codemirror_mode": {
    "name": "ipython",
    "version": 2
   },
   "file_extension": ".py",
   "mimetype": "text/x-python",
   "name": "python",
   "nbconvert_exporter": "python",
   "pygments_lexer": "ipython2",
   "version": "2.7.11"
  }
 },
 "nbformat": 4,
 "nbformat_minor": 0
}
