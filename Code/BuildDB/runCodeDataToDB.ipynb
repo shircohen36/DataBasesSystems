{
 "cells": [
  {
   "cell_type": "code",
   "execution_count": 1,
   "metadata": {
    "collapsed": false
   },
   "outputs": [],
   "source": [
    "import cleanDataAddID\n",
    "import createFileMatchByID\n",
    "import createMySQLTableFromCSV"
   ]
  },
  {
   "cell_type": "code",
   "execution_count": 2,
   "metadata": {
    "collapsed": false
   },
   "outputs": [],
   "source": [
    "cleanDataAddID.cleanFile(\"MusicGenre.csv\")\n",
    "cleanDataAddID.cleanFile(\"MusicalArtist.csv\")\n",
    "cleanDataAddID.cleanFile(\"Band.csv\")\n",
    "cleanDataAddID.cleanFile(\"Single.csv\")\n",
    "cleanDataAddID.cleanFile(\"Song.csv\")\n",
    "cleanDataAddID.cleanFile(\"Album.csv\")\n",
    "cleanDataAddID.cleanFile(\"ClassicalMusicComposition.csv\")"
   ]
  },
  {
   "cell_type": "code",
   "execution_count": 3,
   "metadata": {
    "collapsed": false
   },
   "outputs": [],
   "source": [
    "# find genres in fileTwo\n",
    "\n",
    "createFileMatchByID\n",
    "\n",
    "fileOne=\"ExcelOntologyTablesClean/MusicGenre.csv\"\n",
    "nameOne=\"MusicGenre\"\n",
    "DirOutput=\"ExcelOntologyTablesMatch\"\n",
    "\n",
    "labelsToMatch=list()\n",
    "labelsToMatch.append(\"genre\")\n",
    "\n",
    "filesToMatch=list()\n",
    "filesToMatch.append(\"MusicalArtist\")\n",
    "filesToMatch.append(\"Band\")\n",
    "filesToMatch.append(\"Single\")\n",
    "filesToMatch.append(\"Song\")\n",
    "filesToMatch.append(\"Album\")\n",
    "filesToMatch.append(\"ClassicalMusicComposition\")\n",
    "\n",
    "for filename in filesToMatch:\n",
    "    fileTwo=\"ExcelOntologyTablesClean/\"+filename+\".csv\"\n",
    "    nameTwo=filename\n",
    "    createFileMatchByID.createJoinTableByID(fileOne,fileTwo,DirOutput,labelsToMatch,nameOne,nameTwo)"
   ]
  },
  {
   "cell_type": "code",
   "execution_count": 4,
   "metadata": {
    "collapsed": true
   },
   "outputs": [],
   "source": [
    "# connect genre to genre categories\n",
    "\n",
    "createFileMatchByID\n",
    "\n",
    "fileOne=\"ExcelOntologyTablesClean/MusicGenre.csv\"\n",
    "fileTwo=\"ExcelOntologyTablesClean/MusicGenre.csv\"\n",
    "nameOne=\"MusicGenre\"\n",
    "DirOutput=\"ExcelOntologyTablesMatch\"\n",
    "\n",
    "nameTwo=\"MusicSubGenre\"\n",
    "labelsToMatch=list()\n",
    "labelsToMatch.append(\"musicSubgenre\")\n",
    "\n",
    "createFileMatchByID.createJoinTableByID(fileOne,fileTwo,DirOutput,labelsToMatch,nameOne,nameTwo)\n",
    "\n",
    "nameTwo=\"MusicStylisticOriginGenre\"\n",
    "labelsToMatch=list()\n",
    "labelsToMatch.append(\"stylisticOrigin\")\n",
    "\n",
    "createFileMatchByID.createJoinTableByID(fileOne,fileTwo,DirOutput,labelsToMatch,nameOne,nameTwo)\n",
    "\n",
    "nameTwo=\"MusicDerivativeGenre\"\n",
    "labelsToMatch=list()\n",
    "labelsToMatch.append(\"derivative\")\n",
    "\n",
    "createFileMatchByID.createJoinTableByID(fileOne,fileTwo,DirOutput,labelsToMatch,nameOne,nameTwo)\n",
    "\n",
    "nameTwo=\"MusicFusionGenre\"\n",
    "labelsToMatch=list()\n",
    "labelsToMatch.append(\"musicFusionGenre\")\n",
    "\n",
    "createFileMatchByID.createJoinTableByID(fileOne,fileTwo,DirOutput,labelsToMatch,nameOne,nameTwo)"
   ]
  },
  {
   "cell_type": "code",
   "execution_count": 5,
   "metadata": {
    "collapsed": false
   },
   "outputs": [],
   "source": [
    "# find artists/bands in Single\n",
    "\n",
    "createFileMatchByID\n",
    "\n",
    "fileTwo=\"ExcelOntologyTablesClean/Single.csv\"\n",
    "nameTwo=\"Single\"\n",
    "DirOutput=\"ExcelOntologyTablesMatch\"\n",
    "\n",
    "labelsToMatch=list()\n",
    "labelsToMatch.append(\"musicalArtist\")\n",
    "labelsToMatch.append(\"artist\")\n",
    "labelsToMatch.append(\"musicalBand\")\n",
    "\n",
    "filesToMatch=list()\n",
    "filesToMatch.append(\"MusicalArtist\")\n",
    "filesToMatch.append(\"Band\")\n",
    "\n",
    "for filename in filesToMatch:\n",
    "    fileOne=\"ExcelOntologyTablesClean/\"+filename+\".csv\"\n",
    "    nameOne=filename\n",
    "    createFileMatchByID.createJoinTableByID(fileOne,fileTwo,DirOutput,labelsToMatch,nameOne,nameTwo)"
   ]
  },
  {
   "cell_type": "code",
   "execution_count": 6,
   "metadata": {
    "collapsed": true
   },
   "outputs": [],
   "source": [
    "# find artists/bands/composers in Song\n",
    "\n",
    "createFileMatchByID\n",
    "\n",
    "fileTwo=\"ExcelOntologyTablesClean/Song.csv\"\n",
    "nameTwo=\"Song\"\n",
    "DirOutput=\"ExcelOntologyTablesMatch\"\n",
    "\n",
    "labelsToMatch=list()\n",
    "labelsToMatch.append(\"artist\")\n",
    "labelsToMatch.append(\"composer\")\n",
    "\n",
    "filesToMatch=list()\n",
    "filesToMatch.append(\"MusicalArtist\")\n",
    "filesToMatch.append(\"Band\")\n",
    "\n",
    "for filename in filesToMatch:\n",
    "    fileOne=\"ExcelOntologyTablesClean/\"+filename+\".csv\"\n",
    "    nameOne=filename\n",
    "    createFileMatchByID.createJoinTableByID(fileOne,fileTwo,DirOutput,labelsToMatch,nameOne,nameTwo)"
   ]
  },
  {
   "cell_type": "code",
   "execution_count": 7,
   "metadata": {
    "collapsed": true
   },
   "outputs": [],
   "source": [
    "# find artists/bands/composers in Album\n",
    "\n",
    "createFileMatchByID\n",
    "\n",
    "fileTwo=\"ExcelOntologyTablesClean/Album.csv\"\n",
    "nameTwo=\"Album\"\n",
    "DirOutput=\"ExcelOntologyTablesMatch\"\n",
    "\n",
    "labelsToMatch=list()\n",
    "labelsToMatch.append(\"artist\")\n",
    "labelsToMatch.append(\"associatedBand\")\n",
    "labelsToMatch.append(\"associatedMusicalArtist\")\n",
    "labelsToMatch.append(\"bandMember\")\n",
    "labelsToMatch.append(\"compiler\")\n",
    "labelsToMatch.append(\"formerBandMember\")\n",
    "labelsToMatch.append(\"musicalArtist\")\n",
    "labelsToMatch.append(\"musicalBand\")\n",
    "\n",
    "filesToMatch=list()\n",
    "filesToMatch.append(\"MusicalArtist\")\n",
    "filesToMatch.append(\"Band\")\n",
    "\n",
    "for filename in filesToMatch:\n",
    "    fileOne=\"ExcelOntologyTablesClean/\"+filename+\".csv\"\n",
    "    nameOne=filename\n",
    "    createFileMatchByID.createJoinTableByID(fileOne,fileTwo,DirOutput,labelsToMatch,nameOne,nameTwo)"
   ]
  },
  {
   "cell_type": "code",
   "execution_count": 8,
   "metadata": {
    "collapsed": true
   },
   "outputs": [],
   "source": [
    "# find Album in fileTwo\n",
    "\n",
    "createFileMatchByID\n",
    "\n",
    "fileOne=\"ExcelOntologyTablesClean/Album.csv\"\n",
    "nameOne=\"Album\"\n",
    "DirOutput=\"ExcelOntologyTablesMatch\"\n",
    "\n",
    "labelsToMatch=list()\n",
    "labelsToMatch.append(\"album\")\n",
    "\n",
    "filesToMatch=list()\n",
    "filesToMatch.append(\"Single\")\n",
    "filesToMatch.append(\"Song\")\n",
    "\n",
    "for filename in filesToMatch:\n",
    "    fileTwo=\"ExcelOntologyTablesClean/\"+filename+\".csv\"\n",
    "    nameTwo=filename\n",
    "    createFileMatchByID.createJoinTableByID(fileOne,fileTwo,DirOutput,labelsToMatch,nameOne,nameTwo)"
   ]
  },
  {
   "cell_type": "code",
   "execution_count": 9,
   "metadata": {
    "collapsed": true
   },
   "outputs": [],
   "source": [
    "#connect band to artists\n",
    "\n",
    "createFileMatchByID\n",
    "\n",
    "fileOne=\"ExcelOntologyTablesClean/MusicalArtist.csv\"\n",
    "nameOne=\"MusicalArtist\"\n",
    "fileTwo=\"ExcelOntologyTablesClean/Band.csv\"\n",
    "nameTwo=\"Band\"\n",
    "DirOutput=\"ExcelOntologyTablesMatch\"\n",
    "\n",
    "labelsToMatch=list()\n",
    "labelsToMatch.append(\"bandMember\")\n",
    "labelsToMatch.append(\"currentMember\")\n",
    "labelsToMatch.append(\"formerBandMember\")\n",
    "labelsToMatch.append(\"pastMember\")\n",
    "labelsToMatch.append(\"associatedMusicalArtist\")\n",
    "labelsToMatch.append(\"associatedMusicalBand\")\n",
    "\n",
    "createFileMatchByID.createJoinTableByID(fileOne,fileTwo,DirOutput,labelsToMatch,nameOne,nameTwo)"
   ]
  },
  {
   "cell_type": "code",
   "execution_count": 10,
   "metadata": {
    "collapsed": false
   },
   "outputs": [],
   "source": [
    "createMySQLTableFromCSV\n",
    "\n",
    "createMySQLTableFromCSV.createSQLTables(\"ExcelOntologyTablesClean\",\"ExcelOntologyTablesMatch\",\"ExcelOntologyTablesClean\")"
   ]
  },
  {
   "cell_type": "code",
   "execution_count": null,
   "metadata": {
    "collapsed": true
   },
   "outputs": [],
   "source": []
  }
 ],
 "metadata": {
  "kernelspec": {
   "display_name": "Python 2",
   "language": "python",
   "name": "python2"
  },
  "language_info": {
   "codemirror_mode": {
    "name": "ipython",
    "version": 2
   },
   "file_extension": ".py",
   "mimetype": "text/x-python",
   "name": "python",
   "nbconvert_exporter": "python",
   "pygments_lexer": "ipython2",
   "version": "2.7.11"
  }
 },
 "nbformat": 4,
 "nbformat_minor": 0
}
