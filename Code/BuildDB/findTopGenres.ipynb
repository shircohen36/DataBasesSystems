{
 "cells": [
  {
   "cell_type": "code",
   "execution_count": 62,
   "metadata": {
    "collapsed": true
   },
   "outputs": [],
   "source": [
    "import numpy as np\n",
    "import csv\n",
    "import os"
   ]
  },
  {
   "cell_type": "code",
   "execution_count": 63,
   "metadata": {
    "collapsed": true
   },
   "outputs": [],
   "source": [
    "filepath=\"ExcelOntologyTables\\MusicGenre.csv\"\n",
    "with open(filepath) as f:\n",
    "    data = list(csv.reader(f))\n",
    "    f.close"
   ]
  },
  {
   "cell_type": "code",
   "execution_count": 64,
   "metadata": {
    "collapsed": true
   },
   "outputs": [],
   "source": [
    "data.reverse\n",
    "headline=data.pop(0)\n",
    "i=0\n",
    "for title in headline:\n",
    "    if title=='name':\n",
    "        nameplace=i\n",
    "    if title =='stylisticOrigin':\n",
    "        orgplace=i\n",
    "    if title=='topGenre':\n",
    "        toplace=i\n",
    "    i+=1      "
   ]
  },
  {
   "cell_type": "code",
   "execution_count": 65,
   "metadata": {
    "collapsed": false
   },
   "outputs": [],
   "source": [
    "topGenres=['Pop','Rock','Classical','Metal','Hip hop','Rap','Reggae','Jazz','House','Folk','Country','Disco','Soul','Techno',\n",
    "           'Blues','A cappella','Afro','African','Acid','New age','New wave']"
   ]
  },
  {
   "cell_type": "code",
   "execution_count": 66,
   "metadata": {
    "collapsed": true
   },
   "outputs": [],
   "source": [
    "for row in data:\n",
    "    row[toplace]='{'\n",
    "    for genre in topGenres:\n",
    "        if genre in row[nameplace] or genre in row[orgplace] or genre.lower() in row[nameplace] or genre.lower() in row[orgplace]:\n",
    "            row[toplace]=row[toplace]+genre+\"|\"\n",
    "    row[toplace]=row[toplace]+\"}\"\n",
    "    row[toplace]=row[toplace].replace(\"|}\",\"}\")"
   ]
  },
  {
   "cell_type": "code",
   "execution_count": 67,
   "metadata": {
    "collapsed": false
   },
   "outputs": [],
   "source": [
    "filepath=\"ExcelOntologyTables\\MusicGenreTop.csv\"\n",
    "with open(filepath,'w') as f:\n",
    "    for item in headline:\n",
    "        f.write(\"%s,\" % item)\n",
    "    f.write(\"\\n\")\n",
    "    for row in data:\n",
    "        for item in row:\n",
    "            f.write(\"%s,\" % item)\n",
    "        f.write(\"\\n\")\n",
    "    f.close"
   ]
  }
 ],
 "metadata": {
  "kernelspec": {
   "display_name": "Python 2",
   "language": "python",
   "name": "python2"
  },
  "language_info": {
   "codemirror_mode": {
    "name": "ipython",
    "version": 2
   },
   "file_extension": ".py",
   "mimetype": "text/x-python",
   "name": "python",
   "nbconvert_exporter": "python",
   "pygments_lexer": "ipython2",
   "version": "2.7.11"
  }
 },
 "nbformat": 4,
 "nbformat_minor": 0
}
